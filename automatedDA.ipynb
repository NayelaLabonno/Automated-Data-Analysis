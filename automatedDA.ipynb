{
 "cells": [
  {
   "cell_type": "markdown",
   "id": "6b1d2e9a",
   "metadata": {},
   "source": [
    "<span style=\"color:blue\"> This notebook automates data analytics phases of CRISP-DM methodology for vibration data analysis use case in manufacturing domain. The goal of the notebook is to assist a manufacturing domain expert to perform data analysis tasks with less difficulties. </span>\n",
    "    \n",
    "<span style=\"color:blue\"> To operate this notebook, only the following cell needs to be executed by the user. Upon executing the cell, all the code cells will be hidden for a less complex appearance of the notebook. But the cells can be toggled back to view the code by clicking the '[show code]' button on the right side. To execute the following cell, click on it and press Shift+Enter</span>\n",
    "\n",
    "<span style=\"color:blue\">Some cells takes a while to process the dataset, construct features and finding out feature importance. Please wait till the cells finish execution and moves to the next user prompt.</span>"
   ]
  },
  {
   "cell_type": "code",
   "execution_count": 2,
   "id": "9840c4aa",
   "metadata": {
    "code_folding": [],
    "scrolled": true
   },
   "outputs": [
    {
     "name": "stdout",
     "output_type": "stream",
     "text": [
      "Checking whether there is an H2O instance running at http://localhost:54321 ..... not found.\n",
      "Attempting to start a local H2O server...\n",
      "  Java Version: openjdk version \"11.0.17\" 2022-10-18; OpenJDK Runtime Environment (build 11.0.17+8-post-Ubuntu-1ubuntu220.04); OpenJDK 64-Bit Server VM (build 11.0.17+8-post-Ubuntu-1ubuntu220.04, mixed mode, sharing)\n",
      "  Starting server from /home/nayela/.local/lib/python3.8/site-packages/h2o/backend/bin/h2o.jar\n",
      "  Ice root: /tmp/tmpo9rx6xwx\n",
      "  JVM stdout: /tmp/tmpo9rx6xwx/h2o_nayela_started_from_python.out\n",
      "  JVM stderr: /tmp/tmpo9rx6xwx/h2o_nayela_started_from_python.err\n",
      "  Server is running at http://127.0.0.1:54321\n",
      "Connecting to H2O server at http://127.0.0.1:54321 ... successful.\n"
     ]
    },
    {
     "data": {
      "text/html": [
       "\n",
       "<style>\n",
       "\n",
       "#h2o-table-1.h2o-container {\n",
       "  overflow-x: auto;\n",
       "}\n",
       "#h2o-table-1 .h2o-table {\n",
       "  /* width: 100%; */\n",
       "  margin-top: 1em;\n",
       "  margin-bottom: 1em;\n",
       "}\n",
       "#h2o-table-1 .h2o-table caption {\n",
       "  white-space: nowrap;\n",
       "  caption-side: top;\n",
       "  text-align: left;\n",
       "  /* margin-left: 1em; */\n",
       "  margin: 0;\n",
       "  font-size: larger;\n",
       "}\n",
       "#h2o-table-1 .h2o-table thead {\n",
       "  white-space: nowrap; \n",
       "  position: sticky;\n",
       "  top: 0;\n",
       "  box-shadow: 0 -1px inset;\n",
       "}\n",
       "#h2o-table-1 .h2o-table tbody {\n",
       "  overflow: auto;\n",
       "}\n",
       "#h2o-table-1 .h2o-table th,\n",
       "#h2o-table-1 .h2o-table td {\n",
       "  text-align: right;\n",
       "  /* border: 1px solid; */\n",
       "}\n",
       "#h2o-table-1 .h2o-table tr:nth-child(even) {\n",
       "  /* background: #F5F5F5 */\n",
       "}\n",
       "\n",
       "</style>      \n",
       "<div id=\"h2o-table-1\" class=\"h2o-container\">\n",
       "  <table class=\"h2o-table\">\n",
       "    <caption></caption>\n",
       "    <thead></thead>\n",
       "    <tbody><tr><td>H2O_cluster_uptime:</td>\n",
       "<td>01 secs</td></tr>\n",
       "<tr><td>H2O_cluster_timezone:</td>\n",
       "<td>Europe/Berlin</td></tr>\n",
       "<tr><td>H2O_data_parsing_timezone:</td>\n",
       "<td>UTC</td></tr>\n",
       "<tr><td>H2O_cluster_version:</td>\n",
       "<td>3.38.0.2</td></tr>\n",
       "<tr><td>H2O_cluster_version_age:</td>\n",
       "<td>2 months and 16 days </td></tr>\n",
       "<tr><td>H2O_cluster_name:</td>\n",
       "<td>H2O_from_python_nayela_oas0ra</td></tr>\n",
       "<tr><td>H2O_cluster_total_nodes:</td>\n",
       "<td>1</td></tr>\n",
       "<tr><td>H2O_cluster_free_memory:</td>\n",
       "<td>1.887 Gb</td></tr>\n",
       "<tr><td>H2O_cluster_total_cores:</td>\n",
       "<td>8</td></tr>\n",
       "<tr><td>H2O_cluster_allowed_cores:</td>\n",
       "<td>8</td></tr>\n",
       "<tr><td>H2O_cluster_status:</td>\n",
       "<td>locked, healthy</td></tr>\n",
       "<tr><td>H2O_connection_url:</td>\n",
       "<td>http://127.0.0.1:54321</td></tr>\n",
       "<tr><td>H2O_connection_proxy:</td>\n",
       "<td>{\"http\": null, \"https\": null}</td></tr>\n",
       "<tr><td>H2O_internal_security:</td>\n",
       "<td>False</td></tr>\n",
       "<tr><td>Python_version:</td>\n",
       "<td>3.8.10 final</td></tr></tbody>\n",
       "  </table>\n",
       "</div>\n"
      ],
      "text/plain": [
       "--------------------------  -----------------------------\n",
       "H2O_cluster_uptime:         01 secs\n",
       "H2O_cluster_timezone:       Europe/Berlin\n",
       "H2O_data_parsing_timezone:  UTC\n",
       "H2O_cluster_version:        3.38.0.2\n",
       "H2O_cluster_version_age:    2 months and 16 days\n",
       "H2O_cluster_name:           H2O_from_python_nayela_oas0ra\n",
       "H2O_cluster_total_nodes:    1\n",
       "H2O_cluster_free_memory:    1.887 Gb\n",
       "H2O_cluster_total_cores:    8\n",
       "H2O_cluster_allowed_cores:  8\n",
       "H2O_cluster_status:         locked, healthy\n",
       "H2O_connection_url:         http://127.0.0.1:54321\n",
       "H2O_connection_proxy:       {\"http\": null, \"https\": null}\n",
       "H2O_internal_security:      False\n",
       "Python_version:             3.8.10 final\n",
       "--------------------------  -----------------------------"
      ]
     },
     "metadata": {},
     "output_type": "display_data"
    },
    {
     "data": {
      "application/javascript": "Jupyter.notebook.execute_cell_range(2,6)",
      "text/plain": [
       "<IPython.core.display.Javascript object>"
      ]
     },
     "metadata": {},
     "output_type": "display_data"
    }
   ],
   "source": [
    "#importing necessary libraries\n",
    "import os\n",
    "import numpy as np \n",
    "import pandas as pd \n",
    "import scipy\n",
    "from scipy.stats import entropy\n",
    "from sklearn.decomposition import PCA\n",
    "from IPython.display import Javascript\n",
    "from ipywidgets import widgets\n",
    "from sklearn.decomposition import PCA\n",
    "import magic\n",
    "import dtale\n",
    "from sklearn.feature_selection import RFECV\n",
    "from sklearn.ensemble import RandomForestClassifier\n",
    "from sklearn.model_selection import KFold\n",
    "import h2o\n",
    "from h2o.automl import H2OAutoML\n",
    "from sklearn.preprocessing import LabelEncoder\n",
    "from sklearn.decomposition import PCA\n",
    "h2o.init()\n",
    "display(Javascript(\"Jupyter.notebook.execute_cell_range(2,6)\"))"
   ]
  },
  {
   "cell_type": "code",
   "execution_count": 3,
   "id": "5b207778",
   "metadata": {},
   "outputs": [
    {
     "data": {
      "text/html": [
       "<script>\n",
       "    function luc21893_refresh_cell(cell) {\n",
       "        if( cell.luc21893 ) return;\n",
       "        cell.luc21893 = true;\n",
       "        console.debug('New code cell found...' );\n",
       "        \n",
       "        var div = document.createElement('DIV');            \n",
       "        cell.parentNode.insertBefore( div, cell.nextSibling );\n",
       "        div.style.textAlign = 'right';\n",
       "        var a = document.createElement('A');\n",
       "        div.appendChild(a);\n",
       "        a.href='#'\n",
       "        a.luc21893 = cell;\n",
       "        a.setAttribute( 'onclick', \"luc21893_toggle(this); return false;\" );\n",
       "\n",
       "        cell.style.visibility='hidden';\n",
       "        cell.style.position='absolute';\n",
       "        a.innerHTML = '[show code]';        \n",
       "                \n",
       "    }\n",
       "    function luc21893_refresh() {                \n",
       "        if( document.querySelector('.code_cell .input') == null ) {            \n",
       "            // it apeears that I am in a exported html\n",
       "            // hide this code\n",
       "            var codeCells = document.querySelectorAll('.jp-InputArea')\n",
       "            codeCells[0].style.visibility = 'hidden';\n",
       "            codeCells[0].style.position = 'absolute';                        \n",
       "            for( var i = 1; i < codeCells.length; i++ ) {\n",
       "                luc21893_refresh_cell(codeCells[i].parentNode)\n",
       "            }\n",
       "            window.onload = luc21893_refresh;\n",
       "        }                 \n",
       "        else {\n",
       "            // it apperas that I am in a jupyter editor\n",
       "            var codeCells = document.querySelectorAll('.code_cell .input')\n",
       "            for( var i = 0; i < codeCells.length; i++ ) {\n",
       "                luc21893_refresh_cell(codeCells[i])\n",
       "            }            \n",
       "            window.setTimeout( luc21893_refresh, 1000 )\n",
       "        }        \n",
       "    }\n",
       "    \n",
       "    function luc21893_toggle(a) {\n",
       "        if( a.luc21893.style.visibility=='hidden' ) {\n",
       "            a.luc21893.style.visibility='visible';        \n",
       "            a.luc21893.style.position='';\n",
       "            a.innerHTML = '[hide code]';\n",
       "        }\n",
       "        else {\n",
       "            a.luc21893.style.visibility='hidden';        \n",
       "            a.luc21893.style.position='absolute';\n",
       "            a.innerHTML = '[show code]';\n",
       "        }\n",
       "    }\n",
       "    \n",
       "    luc21893_refresh()\n",
       "</script>\n"
      ],
      "text/plain": [
       "<IPython.core.display.HTML object>"
      ]
     },
     "metadata": {},
     "output_type": "display_data"
    }
   ],
   "source": [
    "%%HTML \n",
    "<script>\n",
    "    function luc21893_refresh_cell(cell) {\n",
    "        if( cell.luc21893 ) return;\n",
    "        cell.luc21893 = true;\n",
    "        console.debug('New code cell found...' );\n",
    "        \n",
    "        var div = document.createElement('DIV');            \n",
    "        cell.parentNode.insertBefore( div, cell.nextSibling );\n",
    "        div.style.textAlign = 'right';\n",
    "        var a = document.createElement('A');\n",
    "        div.appendChild(a);\n",
    "        a.href='#'\n",
    "        a.luc21893 = cell;\n",
    "        a.setAttribute( 'onclick', \"luc21893_toggle(this); return false;\" );\n",
    "\n",
    "        cell.style.visibility='hidden';\n",
    "        cell.style.position='absolute';\n",
    "        a.innerHTML = '[show code]';        \n",
    "                \n",
    "    }\n",
    "    function luc21893_refresh() {                \n",
    "        if( document.querySelector('.code_cell .input') == null ) {            \n",
    "            // it apeears that I am in a exported html\n",
    "            // hide this code\n",
    "            var codeCells = document.querySelectorAll('.jp-InputArea')\n",
    "            codeCells[0].style.visibility = 'hidden';\n",
    "            codeCells[0].style.position = 'absolute';                        \n",
    "            for( var i = 1; i < codeCells.length; i++ ) {\n",
    "                luc21893_refresh_cell(codeCells[i].parentNode)\n",
    "            }\n",
    "            window.onload = luc21893_refresh;\n",
    "        }                 \n",
    "        else {\n",
    "            // it apperas that I am in a jupyter editor\n",
    "            var codeCells = document.querySelectorAll('.code_cell .input')\n",
    "            for( var i = 0; i < codeCells.length; i++ ) {\n",
    "                luc21893_refresh_cell(codeCells[i])\n",
    "            }            \n",
    "            window.setTimeout( luc21893_refresh, 1000 )\n",
    "        }        \n",
    "    }\n",
    "    \n",
    "    function luc21893_toggle(a) {\n",
    "        if( a.luc21893.style.visibility=='hidden' ) {\n",
    "            a.luc21893.style.visibility='visible';        \n",
    "            a.luc21893.style.position='';\n",
    "            a.innerHTML = '[hide code]';\n",
    "        }\n",
    "        else {\n",
    "            a.luc21893.style.visibility='hidden';        \n",
    "            a.luc21893.style.position='absolute';\n",
    "            a.innerHTML = '[show code]';\n",
    "        }\n",
    "    }\n",
    "    \n",
    "    luc21893_refresh()\n",
    "</script>\n"
   ]
  },
  {
   "cell_type": "markdown",
   "id": "7d3c78d4",
   "metadata": {},
   "source": [
    "# Phase 1: Business Understanding"
   ]
  },
  {
   "cell_type": "markdown",
   "id": "2b6f8cb4",
   "metadata": {},
   "source": [
    "## 1.1 Define Business Objectives "
   ]
  },
  {
   "cell_type": "code",
   "execution_count": 4,
   "id": "b3e9bd58",
   "metadata": {
    "code_folding": [],
    "scrolled": true
   },
   "outputs": [
    {
     "name": "stdout",
     "output_type": "stream",
     "text": [
      "Select a business objective\n"
     ]
    },
    {
     "data": {
      "application/vnd.jupyter.widget-view+json": {
       "model_id": "c76f0302b858407d856c0d2fb568ff55",
       "version_major": 2,
       "version_minor": 0
      },
      "text/plain": [
       "Dropdown(options=('Reduce maintenance costs', 'Lower machine downtime'), value=None)"
      ]
     },
     "metadata": {},
     "output_type": "display_data"
    },
    {
     "data": {
      "application/javascript": "Jupyter.notebook.execute_cell_range(6,8)",
      "text/plain": [
       "<IPython.core.display.Javascript object>"
      ]
     },
     "metadata": {},
     "output_type": "display_data"
    }
   ],
   "source": [
    "# initialize lists to store iteration data for meta-learning\n",
    "business_obj = []\n",
    "feature_set = []\n",
    "user_feedback = []\n",
    "ml_model_error = []\n",
    "feature_recommendation = []\n",
    "\n",
    "print('Select a business objective')\n",
    "def dropdown_event_handler(change):\n",
    "    display(Javascript(\"Jupyter.notebook.execute_cell_range(6,8)\"))\n",
    "dropdown=widgets.Dropdown(\n",
    "    value=None,\n",
    "    options=[('Reduce maintenance costs'), ('Lower machine downtime')]\n",
    ")\n",
    "display(dropdown)\n",
    "dropdown.observe(dropdown_event_handler, names='value')"
   ]
  },
  {
   "cell_type": "markdown",
   "id": "a34ffa47",
   "metadata": {},
   "source": [
    "## 1.2 Determine Data Mining Goals\n",
    "This task maps the selected business objective to a data mining goal by using a demo knowledge base."
   ]
  },
  {
   "cell_type": "code",
   "execution_count": 1,
   "id": "a57e6956",
   "metadata": {
    "code_folding": [
     0,
     2
    ],
    "scrolled": true
   },
   "outputs": [
    {
     "ename": "NameError",
     "evalue": "name 'dropdown' is not defined",
     "output_type": "error",
     "traceback": [
      "\u001b[0;31m---------------------------------------------------------------------------\u001b[0m",
      "\u001b[0;31mNameError\u001b[0m                                 Traceback (most recent call last)",
      "Cell \u001b[0;32mIn [1], line 1\u001b[0m\n\u001b[0;32m----> 1\u001b[0m business_objective\u001b[38;5;241m=\u001b[39m\u001b[43mdropdown\u001b[49m\u001b[38;5;241m.\u001b[39mvalue\n\u001b[1;32m      2\u001b[0m \u001b[38;5;28;01mif\u001b[39;00m business_objective \u001b[38;5;241m==\u001b[39m \u001b[38;5;124m'\u001b[39m\u001b[38;5;124mReduce maintenance costs\u001b[39m\u001b[38;5;124m'\u001b[39m:\n\u001b[1;32m      3\u001b[0m     dm_goal \u001b[38;5;241m=\u001b[39m \u001b[38;5;124m'\u001b[39m\u001b[38;5;124mRUL Prediction\u001b[39m\u001b[38;5;124m'\u001b[39m\n",
      "\u001b[0;31mNameError\u001b[0m: name 'dropdown' is not defined"
     ]
    }
   ],
   "source": [
    "business_objective=dropdown.value\n",
    "if business_objective == 'Reduce maintenance costs':\n",
    "    dm_goal = 'RUL Prediction'\n",
    "elif business_objective == 'Lower machine downtime':\n",
    "    dm_goal = 'RUL Prediction'\n",
    "print('Data Mining goal for the defined business objective is',dm_goal)\n",
    "display(Javascript(\"Jupyter.notebook.execute_cell_range(8,11)\"))"
   ]
  },
  {
   "cell_type": "markdown",
   "id": "d1ee26f4",
   "metadata": {},
   "source": [
    "\n",
    "# Phase 2: Data Understanding"
   ]
  },
  {
   "cell_type": "markdown",
   "id": "3c53273b",
   "metadata": {},
   "source": [
    "## 2.1 Collect Data \n",
    "This task requires loading data into the data analysis tool. \n",
    "\n",
    "<span style=\"color:blue\"> Provide the path to data directory file in the text field below. An example relative datapath in case data resides under the currect directory in a folder named 'data' is: ./data</span>"
   ]
  },
  {
   "cell_type": "code",
   "execution_count": 6,
   "id": "ec0b5ddf",
   "metadata": {
    "code_folding": []
   },
   "outputs": [
    {
     "data": {
      "application/vnd.jupyter.widget-view+json": {
       "model_id": "0d1ed898bc184d329baae3f16adb52da",
       "version_major": 2,
       "version_minor": 0
      },
      "text/plain": [
       "Text(value='', placeholder='Provide dataset path here')"
      ]
     },
     "metadata": {},
     "output_type": "display_data"
    }
   ],
   "source": [
    "text = widgets.Text(\n",
    "    placeholder='Provide dataset path here',\n",
    "    disabled=False\n",
    ")\n",
    "display(text)\n",
    "\n",
    "def callback(wdgt):\n",
    "    display(Javascript(\"Jupyter.notebook.execute_cell_range(11,13)\"))\n",
    "\n",
    "text.on_submit(callback)"
   ]
  },
  {
   "cell_type": "markdown",
   "id": "c046aa6e",
   "metadata": {},
   "source": [
    "<span style=\"color:blue\"> The following input is applicable if the datafile contains metadata. If no metadata is included in the data file, enter 0. </span>"
   ]
  },
  {
   "cell_type": "code",
   "execution_count": null,
   "id": "e9bff183",
   "metadata": {
    "code_folding": [
     0
    ]
   },
   "outputs": [],
   "source": [
    "metadata_rows = widgets.Text(\n",
    "    placeholder='Enter number of rows containing metadata',\n",
    "    disabled=False\n",
    ")\n",
    "display(metadata_rows)\n",
    "\n",
    "def callback2(wdgt):\n",
    "    display(Javascript(\"Jupyter.notebook.execute_cell_range(13,14)\"))\n",
    "\n",
    "metadata_rows.on_submit(callback2)"
   ]
  },
  {
   "cell_type": "code",
   "execution_count": 7,
   "id": "20e39c58",
   "metadata": {
    "code_folding": [
     0
    ],
    "scrolled": true
   },
   "outputs": [
    {
     "data": {
      "application/vnd.jupyter.widget-view+json": {
       "model_id": "91bbc10bc2044d2d844b2435b39bf592",
       "version_major": 2,
       "version_minor": 0
      },
      "text/plain": [
       "Text(value='', placeholder='If the column names are included enter 1, or 0')"
      ]
     },
     "metadata": {},
     "output_type": "display_data"
    },
    {
     "data": {
      "application/javascript": "Jupyter.notebook.execute_cell_range(14,15)",
      "text/plain": [
       "<IPython.core.display.Javascript object>"
      ]
     },
     "metadata": {},
     "output_type": "display_data"
    }
   ],
   "source": [
    "columns_included = widgets.Text(\n",
    "    placeholder='If the column names are included enter 1, or 0',\n",
    "    disabled=False\n",
    ")\n",
    "display(columns_included)\n",
    "\n",
    "def callback3(wdgt):\n",
    "    display(Javascript(\"Jupyter.notebook.execute_cell_range(14,15)\"))\n",
    "\n",
    "columns_included.on_submit(callback3)"
   ]
  },
  {
   "cell_type": "code",
   "execution_count": null,
   "id": "7099ad07",
   "metadata": {},
   "outputs": [],
   "source": [
    "# extracts data rows only and detects column separator for further processing\n",
    "skip_rows = int(metadata_rows.value)\n",
    "columns_included = int(columns_included.value)\n",
    "dataset_path=text.value\n",
    "common_delimiters= [',',';','\\t',' ','|',':']\n",
    "for filename in os.listdir(dataset_path):\n",
    "    blob = open(os.path.join(dataset_path, filename), 'rb').read()\n",
    "    m = magic.Magic(mime_encoding=True)\n",
    "    encoding = m.from_buffer(blob)\n",
    "    with open(os.path.join(dataset_path, filename), encoding=encoding) as f:\n",
    "        sample_lines = [next(f).rstrip() for x in range(2)]\n",
    "\n",
    "        for d in common_delimiters:\n",
    "            ref = sample_lines[0].count(d)\n",
    "            if ref > 0:\n",
    "                if all([ ref == sample_lines[i].count(d) for i in range(1,2)]):\n",
    "                    sep=d\n",
    "    raw_data = pd.read_csv(os.path.join(dataset_path, filename), encoding=encoding, sep=sep,skiprows=skip_rows)\n",
    "if columns_included == 1:\n",
    "    display(Javascript(\"Jupyter.notebook.execute_cell_range(15,16)\"))\n",
    "else:\n",
    "    display(Javascript(\"Jupyter.notebook.execute_cell_range(16,18)\"))"
   ]
  },
  {
   "cell_type": "code",
   "execution_count": null,
   "id": "a88d9f01",
   "metadata": {},
   "outputs": [],
   "source": [
    "columns = raw_data.columns\n",
    "display(Javascript(\"Jupyter.notebook.execute_cell_range(19,24)\"))"
   ]
  },
  {
   "cell_type": "markdown",
   "id": "8108e719",
   "metadata": {},
   "source": [
    "<span style=\"color:blue\"> Enter the column names of the dataset separated by space in the following text field. Column names should be defined within a single word. If necessary use '_' or '-' to define column names.</span>"
   ]
  },
  {
   "cell_type": "code",
   "execution_count": 9,
   "id": "a910721e",
   "metadata": {
    "code_folding": [
     0
    ]
   },
   "outputs": [
    {
     "data": {
      "application/vnd.jupyter.widget-view+json": {
       "model_id": "35faafd14ecf499ba3d32ebe3518bb9f",
       "version_major": 2,
       "version_minor": 0
      },
      "text/plain": [
       "Text(value='', placeholder='Enter the column names here')"
      ]
     },
     "metadata": {},
     "output_type": "display_data"
    },
    {
     "data": {
      "application/javascript": "Jupyter.notebook.execute_cell_range(18,19)",
      "text/plain": [
       "<IPython.core.display.Javascript object>"
      ]
     },
     "metadata": {},
     "output_type": "display_data"
    }
   ],
   "source": [
    "columns = widgets.Text(\n",
    "    placeholder='Enter the column names here'\n",
    ")\n",
    "display(columns)\n",
    "\n",
    "def callback2(wdgt):\n",
    "    display(Javascript(\"Jupyter.notebook.execute_cell_range(18,19)\"))\n",
    "\n",
    "columns.on_submit(callback2)\n",
    "#B1_x B1_y B2_x B2_y B3_x B3_y B4_x B4_y (for Nasa data)"
   ]
  },
  {
   "cell_type": "code",
   "execution_count": null,
   "id": "ff02dc8a",
   "metadata": {
    "scrolled": true
   },
   "outputs": [],
   "source": [
    "columns=columns.value.split(\" \")\n",
    "raw_data.columns = columns\n",
    "display(Javascript(\"Jupyter.notebook.execute_cell_range(19,24)\"))\n"
   ]
  },
  {
   "cell_type": "markdown",
   "id": "b70d5908",
   "metadata": {},
   "source": [
    "## 2.2-2.4 Describe Data, Explore Data, Verify Data Quality \n",
    "\n",
    "<span style=\"color:blue\"> These three tasks can be executed using the D-Tale tool below. </span>\n",
    "    \n",
    "<span style=\"color:blue\">    1. Use 'Describe’ option from the main menu to get summary of the dataset including some statistical information and plot of the data such as histogram, Q-Q plot, etc. </span>\n",
    "    \n",
    "<span style=\"color:blue\">    2.  ’Charts’, ’Correlations' and 'Predictive Power Source' options can be used to explore the dataset. 'Charts’ provides a way to create 13 different kinds of visualizations with a few clicks including line plot, bar plot, scatter plot, etc. 'Correlations' and 'Predictive Power Source' finds out relationships between the features. </span>\n",
    "    \n",
    "<span style=\"color:blue\">    3. ’Missing Analysis’ visualizes the missing values present in the dataset and ’Highlight Outliers’ detects the cells of numeric columns that exceed the lower or upper bounds defined by D-Tale.\n",
    "</span>"
   ]
  },
  {
   "cell_type": "code",
   "execution_count": 11,
   "id": "255c05d2",
   "metadata": {
    "scrolled": true
   },
   "outputs": [
    {
     "data": {
      "text/html": [
       "\n",
       "        <iframe\n",
       "            width=\"100%\"\n",
       "            height=\"475\"\n",
       "            src=\"http://nayela-ZenBook-UX463FL:40000/dtale/iframe/1\"\n",
       "            frameborder=\"0\"\n",
       "            allowfullscreen\n",
       "            \n",
       "        ></iframe>\n",
       "        "
      ],
      "text/plain": [
       "<IPython.lib.display.IFrame at 0x7fe9fd637d60>"
      ]
     },
     "metadata": {},
     "output_type": "display_data"
    },
    {
     "data": {
      "text/plain": []
     },
     "execution_count": 11,
     "metadata": {},
     "output_type": "execute_result"
    }
   ],
   "source": [
    "# instructions about dtale here\n",
    "d = dtale.show(raw_data)\n",
    "d"
   ]
  },
  {
   "cell_type": "markdown",
   "id": "cef1ab80",
   "metadata": {},
   "source": [
    "# Phase 3: Data Preprocessing"
   ]
  },
  {
   "cell_type": "markdown",
   "id": "9b4f8a0e",
   "metadata": {},
   "source": [
    "## 3.2-3.5 Clean Data, Construct Data Features, Integrate Data, Format Data\n",
    "These tasks cleans dataset if there is any erroneus/duplicate data, then creates necessary features, formats and integrates them if necessary\n",
    "\n",
    "<span style=\"color:blue\"> Enter the time format of the data file name in the following text field.</span>\n",
    "\n",
    "<span style=\"color:blue\"> Also enter the label/categorical features specific to the use case data set in next to the following cell before pressing enter</span>"
   ]
  },
  {
   "cell_type": "code",
   "execution_count": 12,
   "id": "8b6ac34f",
   "metadata": {},
   "outputs": [
    {
     "name": "stdout",
     "output_type": "stream",
     "text": [
      "Example time format: Enter %Y-%m-%d_%H-%M-%S if file name is 2022-03-45_12-06-24-txt\n"
     ]
    },
    {
     "data": {
      "application/vnd.jupyter.widget-view+json": {
       "model_id": "3ea80b1c5fee417c8c53c2f197434370",
       "version_major": 2,
       "version_minor": 0
      },
      "text/plain": [
       "Text(value='', placeholder='Enter time format of filename')"
      ]
     },
     "metadata": {},
     "output_type": "display_data"
    },
    {
     "data": {
      "application/javascript": "Jupyter.notebook.execute_cell_range(24,30)",
      "text/plain": [
       "<IPython.core.display.Javascript object>"
      ]
     },
     "metadata": {},
     "output_type": "display_data"
    }
   ],
   "source": [
    "print('Example time format: Enter %Y-%m-%d_%H-%M-%S if file name is 2022-03-45_12-06-24-txt')\n",
    "\n",
    "time_format = widgets.Text(\n",
    "    placeholder='Enter time format of filename',\n",
    "    disabled=False\n",
    ")\n",
    "display(time_format)\n",
    "\n",
    "def callback4(wdgt):\n",
    "    display(Javascript(\"Jupyter.notebook.execute_cell_range(24,30)\"))\n",
    "\n",
    "time_format.on_submit(callback4)"
   ]
  },
  {
   "cell_type": "code",
   "execution_count": null,
   "id": "0163331e",
   "metadata": {},
   "outputs": [],
   "source": [
    "# Constructs hand-crafted features\n",
    "time_format= str(time_format.value)\n",
    "# Root Mean Squared Sum\n",
    "def calculate_rms(df):\n",
    "    result = []\n",
    "    for col in df:\n",
    "        r = np.sqrt((df[col]**2).sum() / len(df[col]))\n",
    "        result.append(r)\n",
    "    return result\n",
    "\n",
    "# extract peak-to-peak features\n",
    "def calculate_p2p(df):\n",
    "    return np.array(df.max().abs() + df.min().abs())\n",
    "\n",
    "# extract shannon entropy (cut signals to 500 bins)\n",
    "def calculate_entropy(df):\n",
    "    ent = []\n",
    "    for col in df:\n",
    "        ent.append(entropy(pd.cut(df[col], 500).value_counts()))\n",
    "    return np.array(ent)\n",
    "# extract clearence factor\n",
    "def calculate_clearence(df):\n",
    "    result = []\n",
    "    for col in df:\n",
    "        r = ((np.sqrt(df[col].abs())).sum() / len(df[col]))**2\n",
    "        result.append(r)\n",
    "    return result\n",
    "\n",
    "def create_features(dataset_path, columns, time_format):\n",
    "    \n",
    "    ''' Creates 12 time features from each datafile. The features are mean, standard deviation, skewness, kurtosis, entropy, rms, max, peak-to-peak,\n",
    "    crest factor, clearance factor, shape factor and impulse.\n",
    "    Args:\n",
    "        path to dataset and column names\n",
    "    Returns:\n",
    "        dataframe with created features         \n",
    "    '''\n",
    "    \n",
    "    time_features = ['mean','std','skew','kurtosis','entropy','rms','max','p2p', 'crest', 'clearence', 'shape', 'impulse']\n",
    "    \n",
    "    # initialize\n",
    "    column_names = [c+'_'+tf for c in columns for tf in time_features]\n",
    "    data = pd.DataFrame(columns=column_names) # Creating empty dataframe with renaming columns with relevant feature name\n",
    "        \n",
    "        \n",
    "    for filename in os.listdir(dataset_path):\n",
    "        \n",
    "        # read dataset and clean data\n",
    "        raw_data = pd.read_csv(os.path.join(dataset_path, filename), encoding=encoding, sep=sep, skiprows=skip_rows)\n",
    "        \n",
    "        if (raw_data.dtypes == 'object').all():\n",
    "            raw_data=raw_data.applymap(lambda x: str(x.replace(',','.')))\n",
    "            raw_data = raw_data.apply(pd.to_numeric)\n",
    "        missing_columns=raw_data.columns[raw_data.isnull().any()]\n",
    "        for column in missing_columns:\n",
    "            raw_data[column] = raw_data[column].fillna(raw_data[column].mean()) # replace null values with average of the column value\n",
    "        \n",
    "        # time features\n",
    "        mean_abs = np.array(raw_data.abs().mean())\n",
    "        std = np.array(raw_data.std())\n",
    "        skew = np.array(raw_data.skew())\n",
    "        kurtosis = np.array(raw_data.kurtosis())\n",
    "        entropy = calculate_entropy(raw_data)\n",
    "        rms = np.array(calculate_rms(raw_data))\n",
    "        max_abs = np.array(raw_data.abs().max())\n",
    "        p2p = calculate_p2p(raw_data)\n",
    "        crest = max_abs/rms\n",
    "        clearence = np.array(calculate_clearence(raw_data))\n",
    "        shape = rms / mean_abs\n",
    "        impulse = max_abs / mean_abs\n",
    "        \n",
    "        mean_abs = pd.DataFrame(mean_abs.reshape(1,len(columns)), columns=[c+'_mean' for c in columns])\n",
    "        std = pd.DataFrame(std.reshape(1,len(columns)), columns=[c+'_std' for c in columns])\n",
    "        skew = pd.DataFrame(skew.reshape(1,len(columns)), columns=[c+'_skew' for c in columns])\n",
    "        kurtosis = pd.DataFrame(kurtosis.reshape(1,len(columns)), columns=[c+'_kurtosis' for c in columns])\n",
    "        entropy = pd.DataFrame(entropy.reshape(1,len(columns)), columns=[c+'_entropy' for c in columns])\n",
    "        rms = pd.DataFrame(rms.reshape(1,len(columns)), columns=[c+'_rms' for c in columns])\n",
    "        max_abs = pd.DataFrame(max_abs.reshape(1,len(columns)), columns=[c+'_max' for c in columns])\n",
    "        p2p = pd.DataFrame(p2p.reshape(1,len(columns)), columns=[c+'_p2p' for c in columns])\n",
    "        crest = pd.DataFrame(crest.reshape(1,len(columns)), columns=[c+'_crest' for c in columns])\n",
    "        clearence = pd.DataFrame(clearence.reshape(1,len(columns)), columns=[c+'_clearence' for c in columns])\n",
    "        shape = pd.DataFrame(shape.reshape(1,len(columns)), columns=[c+'_shape' for c in columns])\n",
    "        impulse = pd.DataFrame(impulse.reshape(1,len(columns)), columns=[c+'_impulse' for c in columns])\n",
    "        \n",
    "        # remove extension from filename \n",
    "        if filename.endswith('.txt'):\n",
    "            filename = os.path.splitext(filename)[0]  \n",
    "        mean_abs.index = [filename]\n",
    "        std.index = [filename]\n",
    "        skew.index = [filename]\n",
    "        kurtosis.index = [filename]\n",
    "        entropy.index = [filename]\n",
    "        rms.index = [filename]\n",
    "        max_abs.index = [filename]\n",
    "        p2p.index = [filename]\n",
    "        crest.index = [filename]\n",
    "        clearence.index = [filename]\n",
    "        shape.index = [filename]\n",
    "        impulse.index = [filename] \n",
    "        \n",
    "        # concat\n",
    "        merge = pd.concat([mean_abs, std, skew, kurtosis, entropy, rms, max_abs, p2p,crest,clearence, shape, impulse], axis=1)\n",
    "        data = pd.concat([data, merge]) # For each datafile appends one row of 48 features            \n",
    "        cols = [c+'_'+tf for c in columns for tf in time_features]\n",
    "        data = data[cols]\n",
    "        \n",
    "    data.index = pd.to_datetime(data.index, format = time_format)\n",
    "    data = data.sort_index()\n",
    "    data=data.reset_index().rename({'index':'time'}, axis = 'columns')\n",
    "    \n",
    "    return data\n",
    "\n",
    "data_features = create_features(dataset_path,columns,time_format)"
   ]
  },
  {
   "cell_type": "code",
   "execution_count": null,
   "id": "7abbe5f6",
   "metadata": {},
   "outputs": [],
   "source": [
    "#This cell needs to be edited by the domain expert to include label/categorical feature into the feature set\n",
    "\n",
    "# nasa label features\n",
    "B1_state = list()\n",
    "B2_state = list()\n",
    "B3_state = list()\n",
    "B4_state = list()\n",
    "cnt = 0\n",
    "\n",
    "for row in data_features[\"time\"]:\n",
    "    cnt += 1\n",
    "    # B1\n",
    "    if cnt<=151:\n",
    "        B1_state.append(\"early\")\n",
    "    if 151 < cnt <=600:\n",
    "        B1_state.append(\"suspect\")\n",
    "    if 600 < cnt <=1499:\n",
    "        B1_state.append(\"normal\")\n",
    "    if 1499 < cnt <=2098:\n",
    "        B1_state.append(\"suspect\")\n",
    "    if 2098 < cnt <= 2156:\n",
    "        B1_state.append(\"imminent_failure\")\n",
    "    #B2\n",
    "    if cnt<=500:\n",
    "        B2_state.append(\"early\")\n",
    "    if 500 < cnt <=2000:\n",
    "        B2_state.append(\"normal\")\n",
    "    if 2000 < cnt <=2120:\n",
    "        B2_state.append(\"suspect\")\n",
    "    if 2120< cnt <=2156:\n",
    "        B2_state.append(\"imminet_failure\")\n",
    "\n",
    "    #B3\n",
    "    if cnt<=500:\n",
    "        B3_state.append(\"early\")\n",
    "    if 500 < cnt <= 1790:\n",
    "        B3_state.append(\"normal\")\n",
    "    if 1790 < cnt <=2120:\n",
    "        B3_state.append(\"suspect\")\n",
    "    if 2120 < cnt <=2156:\n",
    "        B3_state.append(\"Inner_race_failure\")\n",
    "    #B4\n",
    "    if cnt<=200:\n",
    "        B4_state.append(\"early\")\n",
    "    if 200 < cnt <=1000:\n",
    "        B4_state.append(\"normal\")\n",
    "    if 1000 < cnt <= 1435:\n",
    "        B4_state.append(\"suspect\")\n",
    "    if 1435 < cnt <=1840:\n",
    "        B4_state.append(\"Inner_race_failure\")\n",
    "    if 1840 < cnt <=2156:\n",
    "        B4_state.append(\"Stage_two_failure\")\n",
    "#controlling the counts\n",
    "from collections import Counter\n",
    "print(Counter(B1_state))\n",
    "print(Counter(B2_state))\n",
    "print(Counter(B3_state))\n",
    "print(Counter(B4_state))\n",
    "\n",
    "data_features[\"B1_state\"] = B1_state\n",
    "data_features[\"B2_state\"] = B2_state\n",
    "data_features[\"B3_state\"] = B3_state\n",
    "data_features[\"B4_state\"] = B4_state\n",
    "\n",
    "# data_features.head()\n",
    "B1_cols = [col for col in data_features.columns if \"B1\" in col]\n",
    "B2_cols = [col for col in data_features.columns if \"B2\" in col]\n",
    "B3_cols = [col for col in data_features.columns if \"B3\" in col]\n",
    "B4_cols = [col for col in data_features.columns if \"B4\" in col]\n",
    "\n",
    "B1 = data_features[B1_cols]\n",
    "B2 = data_features[B2_cols]\n",
    "B3 = data_features[B3_cols]\n",
    "B4 = data_features[B4_cols]\n",
    "cols = ['Bx_mean','Bx_std','Bx_skew','Bx_kurtosis','Bx_entropy','Bx_rms','Bx_max','Bx_p2p','Bx_crest', 'Bx_clearence', 'Bx_shape', 'Bx_impulse',\n",
    "        'By_mean','By_std','By_skew','By_kurtosis','By_entropy','By_rms','By_max','By_p2p','By_crest', 'By_clearence', 'By_shape', 'By_impulse',\n",
    "        'label']\n",
    "B1.columns = cols\n",
    "B2.columns = cols\n",
    "B3.columns = cols\n",
    "B4.columns = cols\n",
    "data_features = pd.concat([B1,B2,B3,B4], axis=0, ignore_index=True)\n",
    "data_features['label_encoded']=data_features['label']\n"
   ]
  },
  {
   "cell_type": "markdown",
   "id": "3e8b11f7",
   "metadata": {},
   "source": [
    "<span style=\"color:blue\"> The final feature dataset is again displayed here with D-Tale for enabling the user to explore the final feature set. </span>"
   ]
  },
  {
   "cell_type": "code",
   "execution_count": null,
   "id": "33c4fb30",
   "metadata": {},
   "outputs": [],
   "source": [
    "#encode categorical labels\n",
    "gle = LabelEncoder()\n",
    "genre_labels = gle.fit_transform(data_features['label_encoded'])\n",
    "data_features['label_encoded']=genre_labels\n",
    "d = dtale.show(data_features,datetime_is_numeric=True)\n",
    "d"
   ]
  },
  {
   "cell_type": "markdown",
   "id": "5f1559f0",
   "metadata": {},
   "source": [
    "## 3.1 Select Input Data\n",
    "This step selects relevant features for further analysis\n",
    "\n",
    "<span style=\"color:blue\"> To find feature importance, the user needs to enter the target feature from the following drop-down. </span>"
   ]
  },
  {
   "cell_type": "code",
   "execution_count": null,
   "id": "81fb2bdd",
   "metadata": {
    "scrolled": true
   },
   "outputs": [],
   "source": [
    "print('Select target feature')\n",
    "def dropdown_select_target(change):\n",
    "     display(Javascript(\"Jupyter.notebook.execute_cell_range(30,35)\"))\n",
    "feature_dropdown=widgets.Dropdown(\n",
    "    value=None,\n",
    "    options=data_features.columns\n",
    ")\n",
    "display(feature_dropdown)\n",
    "feature_dropdown.observe(dropdown_select_target, names='value')"
   ]
  },
  {
   "cell_type": "code",
   "execution_count": 18,
   "id": "d4da5186",
   "metadata": {},
   "outputs": [
    {
     "data": {
      "text/plain": [
       "array([ 3,  1, 18,  2,  8,  1, 19, 12, 14,  9,  7, 15, 10,  1, 17,  5, 13,\n",
       "        4, 20, 16, 22, 11,  6, 21])"
      ]
     },
     "execution_count": 18,
     "metadata": {},
     "output_type": "execute_result"
    }
   ],
   "source": [
    "# RFECV feature selection\n",
    "target_feature = str(feature_dropdown.value)\n",
    "x_features=data_features.drop(['label'], axis=1)\n",
    "x_features=x_features.drop(['label_encoded'], axis=1)\n",
    "clf = RandomForestClassifier()\n",
    "rfecv = RFECV(estimator=clf, cv=KFold(n_splits=10), min_features_to_select=2,\n",
    "              scoring='accuracy')\n",
    "selector=rfecv.fit(x_features.values, data_features[target_feature])\n",
    "selector.ranking_"
   ]
  },
  {
   "cell_type": "code",
   "execution_count": 19,
   "id": "25f3e89c",
   "metadata": {},
   "outputs": [
    {
     "name": "stdout",
     "output_type": "stream",
     "text": [
      "Selected RFECV features:\n",
      "\n",
      "Index(['Bx_std', 'Bx_rms', 'By_std'], dtype='object')\n"
     ]
    },
    {
     "name": "stderr",
     "output_type": "stream",
     "text": [
      "/tmp/ipykernel_13733/512176120.py:4: SettingWithCopyWarning:\n",
      "\n",
      "\n",
      "A value is trying to be set on a copy of a slice from a DataFrame.\n",
      "Try using .loc[row_indexer,col_indexer] = value instead\n",
      "\n",
      "See the caveats in the documentation: https://pandas.pydata.org/pandas-docs/stable/user_guide/indexing.html#returning-a-view-versus-a-copy\n",
      "\n"
     ]
    }
   ],
   "source": [
    "rfecv_features = x_features[x_features.columns[rfecv.get_support(1)]]\n",
    "print('Selected RFECV features:\\n')\n",
    "print(rfecv_features.columns)\n",
    "rfecv_features['label'] = data_features['label']\n",
    "rfecv_features.to_csv('rfecv_features.csv')"
   ]
  },
  {
   "cell_type": "code",
   "execution_count": 20,
   "id": "4f4f3bf4",
   "metadata": {},
   "outputs": [
    {
     "name": "stdout",
     "output_type": "stream",
     "text": [
      "3\n",
      "PCA columns generated:\n",
      "\n"
     ]
    }
   ],
   "source": [
    "# PCA \n",
    "X = x_features\n",
    "pca = PCA(n_components = 0.95)\n",
    "pca.fit(X)\n",
    "print(pca.n_components_)\n",
    "explained_variance = pca.explained_variance_ratio_\n",
    "columns = ['pca_comp_%i' % i for i in range(pca.n_components_)]\n",
    "print('PCA columns generated:\\n')\n",
    "pca_features  = pd.DataFrame(pca.transform(X), columns=columns, index=X.index)\n",
    "pca_features['label'] = data_features[\"label\"]\n",
    "pca_features.to_csv('pca_features.csv')"
   ]
  },
  {
   "cell_type": "markdown",
   "id": "e2e2346c",
   "metadata": {},
   "source": [
    "<span style=\"color:blue\">The following cell provides feature set recommendation to the user using previous user and ML model history. The user can select feature set as per the recommendation or can arbitrarily select a feature set. </span>\n",
    " \n",
    "<span style=\"color:blue\">In case of the very first iteration of the data analysis procedure, there will be no feature recommendation due to lack of data. </span>"
   ]
  },
  {
   "cell_type": "code",
   "execution_count": 21,
   "id": "d930b38d",
   "metadata": {
    "scrolled": true
   },
   "outputs": [
    {
     "name": "stdout",
     "output_type": "stream",
     "text": [
      "Select feature set\n"
     ]
    },
    {
     "data": {
      "application/vnd.jupyter.widget-view+json": {
       "model_id": "80aa54f17e14465790068d4dc6f5d2ce",
       "version_major": 2,
       "version_minor": 0
      },
      "text/plain": [
       "Dropdown(options=(('RFECV', 1), ('PCA', 2)), value=None)"
      ]
     },
     "metadata": {},
     "output_type": "display_data"
    },
    {
     "name": "stdout",
     "output_type": "stream",
     "text": [
      "Executing shutdown due to inactivity...\n"
     ]
    },
    {
     "name": "stderr",
     "output_type": "stream",
     "text": [
      "2023-01-12 19:01:53,941 - INFO     - Executing shutdown due to inactivity...\n"
     ]
    },
    {
     "name": "stdout",
     "output_type": "stream",
     "text": [
      "Executing shutdown...\n"
     ]
    },
    {
     "name": "stderr",
     "output_type": "stream",
     "text": [
      "2023-01-12 19:01:53,964 - INFO     - Executing shutdown...\n"
     ]
    },
    {
     "name": "stdout",
     "output_type": "stream",
     "text": [
      "Exception on /shutdown [GET]\n",
      "Traceback (most recent call last):\n",
      "  File \"/home/nayela/.local/lib/python3.8/site-packages/flask/app.py\", line 2525, in wsgi_app\n",
      "    response = self.full_dispatch_request()\n",
      "  File \"/home/nayela/.local/lib/python3.8/site-packages/flask/app.py\", line 1822, in full_dispatch_request\n",
      "    rv = self.handle_user_exception(e)\n",
      "  File \"/home/nayela/.local/lib/python3.8/site-packages/flask/app.py\", line 1820, in full_dispatch_request\n",
      "    rv = self.dispatch_request()\n",
      "  File \"/home/nayela/.local/lib/python3.8/site-packages/flask/app.py\", line 1796, in dispatch_request\n",
      "    return self.ensure_sync(self.view_functions[rule.endpoint])(**view_args)\n",
      "  File \"/home/nayela/.local/lib/python3.8/site-packages/dtale/app.py\", line 435, in shutdown\n",
      "    shutdown_server()\n",
      "  File \"/home/nayela/.local/lib/python3.8/site-packages/dtale/app.py\", line 421, in shutdown_server\n",
      "    raise RuntimeError(\"Not running with the Werkzeug Server\")\n",
      "RuntimeError: Not running with the Werkzeug Server\n"
     ]
    },
    {
     "name": "stderr",
     "output_type": "stream",
     "text": [
      "2023-01-12 19:01:53,965 - ERROR    - Exception on /shutdown [GET]\n",
      "Traceback (most recent call last):\n",
      "  File \"/home/nayela/.local/lib/python3.8/site-packages/flask/app.py\", line 2525, in wsgi_app\n",
      "    response = self.full_dispatch_request()\n",
      "  File \"/home/nayela/.local/lib/python3.8/site-packages/flask/app.py\", line 1822, in full_dispatch_request\n",
      "    rv = self.handle_user_exception(e)\n",
      "  File \"/home/nayela/.local/lib/python3.8/site-packages/flask/app.py\", line 1820, in full_dispatch_request\n",
      "    rv = self.dispatch_request()\n",
      "  File \"/home/nayela/.local/lib/python3.8/site-packages/flask/app.py\", line 1796, in dispatch_request\n",
      "    return self.ensure_sync(self.view_functions[rule.endpoint])(**view_args)\n",
      "  File \"/home/nayela/.local/lib/python3.8/site-packages/dtale/app.py\", line 435, in shutdown\n",
      "    shutdown_server()\n",
      "  File \"/home/nayela/.local/lib/python3.8/site-packages/dtale/app.py\", line 421, in shutdown_server\n",
      "    raise RuntimeError(\"Not running with the Werkzeug Server\")\n",
      "RuntimeError: Not running with the Werkzeug Server\n"
     ]
    },
    {
     "data": {
      "application/javascript": "Jupyter.notebook.execute_cell_range(35,43)",
      "text/plain": [
       "<IPython.core.display.Javascript object>"
      ]
     },
     "metadata": {},
     "output_type": "display_data"
    }
   ],
   "source": [
    "# generates feature recommendation from previous user data for the similar business objective\n",
    "try:\n",
    "    recommendation_df=pd.read_csv(\"./recommendation_df.csv\")\n",
    "except FileNotFoundError: \n",
    "    recommendation_df = None\n",
    "    \n",
    "if recommendation_df is not None:\n",
    "    recommendation_new = recommendation_df.loc[recommendation_df['Feature Recommendation'] == 'Yes']\n",
    "    recommendation_new = recommendation_df.loc[recommendation_df['Business Objective'] == business_objective]\n",
    "    min_error = recommendation_new.ML_model_error.min()\n",
    "    recommendation = recommendation_df.loc[recommendation_df['ML_model_error'] == min_error, 'Feature_set']\n",
    "    try: recommendation\n",
    "    except NameError: recommendation = None\n",
    "    if recommendation is not None:\n",
    "        for item in recommendation:\n",
    "            print('Recommended Feature Set from previous run is')\n",
    "            print(item)\n",
    "else :    \n",
    "    try: recommendation\n",
    "    except NameError: recommendation = None\n",
    "    if recommendation is not None:\n",
    "        for item in recommendation:\n",
    "            print('Recommended Feature Set from previous iteration of same run is')\n",
    "            print(item)\n",
    "\n",
    "print('Select feature set')\n",
    "def dropdown_select_featureset(change):\n",
    "    display(Javascript(\"Jupyter.notebook.execute_cell_range(35,43)\"))\n",
    "featureset_dropdown=widgets.Dropdown(\n",
    "    value=None,\n",
    "    options=[('RFECV', 1), ('PCA', 2)]\n",
    ")\n",
    "display(featureset_dropdown)\n",
    "featureset_dropdown.observe(dropdown_select_featureset, names='value')"
   ]
  },
  {
   "cell_type": "markdown",
   "id": "a071418e",
   "metadata": {},
   "source": [
    "# Phase 4: Modeling"
   ]
  },
  {
   "cell_type": "markdown",
   "id": "aa5c1ba1",
   "metadata": {},
   "source": [
    "## 4.1 - 4.5 Select Modeling Technique, Test Design, Build Model, Assess Model\n",
    "\n",
    "<span style=\"color:blue\">The modeling phase is fully automated. The user can analyze the models and their parameters from the leaderboard below which appears after the models are trained.</span>\n",
    "\n"
   ]
  },
  {
   "cell_type": "code",
   "execution_count": null,
   "id": "90298cd1",
   "metadata": {
    "scrolled": true
   },
   "outputs": [],
   "source": [
    "# initialize automl and start traininjg\n",
    "if featureset_dropdown.value == 1:\n",
    "    df = h2o.import_file('./rfecv_features.csv')\n",
    "    df=df.drop('C1')\n",
    "    print(df)\n",
    "    train, test = df.split_frame(ratios=[0.8], seed = 1)\n",
    "    x = train.columns \n",
    "    #print(x)\n",
    "    y = 'label'\n",
    "    x.remove(y)\n",
    "if featureset_dropdown.value == 2:\n",
    "    df = h2o.import_file('./pca_features.csv')\n",
    "    df=df.drop('C1')\n",
    "    train, test = df.split_frame(ratios=[0.8], seed = 1)\n",
    "    x = train.columns\n",
    "    y = 'label'\n",
    "    x.remove(y)\n",
    "aml = H2OAutoML(max_runtime_secs = 120)\n",
    "aml.train(x = x, y = y, training_frame = train)"
   ]
  },
  {
   "cell_type": "code",
   "execution_count": null,
   "id": "f378a41e",
   "metadata": {},
   "outputs": [],
   "source": [
    "lb = aml.leaderboard\n",
    "lb.head(rows=lb.nrows)\n",
    "best_model = aml.get_best_model()\n",
    "#best_model.explain(train)"
   ]
  },
  {
   "cell_type": "code",
   "execution_count": null,
   "id": "6a34779d",
   "metadata": {
    "scrolled": true
   },
   "outputs": [],
   "source": [
    "best_model = aml.get_best_model()\n",
    "best_model.explain(test)"
   ]
  },
  {
   "cell_type": "markdown",
   "id": "67056083",
   "metadata": {},
   "source": [
    "# Phase 5: Evaluation"
   ]
  },
  {
   "cell_type": "markdown",
   "id": "619da1b8",
   "metadata": {},
   "source": [
    "## 5.1 - 5.3 Determine Next Steps, Review Process, Evaluate Results"
   ]
  },
  {
   "cell_type": "code",
   "execution_count": null,
   "id": "461780ae",
   "metadata": {},
   "outputs": [],
   "source": [
    "print('Does the best model satisfy your business objective?')\n",
    "def dropdown_decision(change):\n",
    "    display(Javascript(\"Jupyter.notebook.execute_cell_range(43,45)\"))\n",
    "decision_dropdown=widgets.Dropdown(\n",
    "    value=None,\n",
    "    options=['Yes','No']\n",
    ")\n",
    "display(decision_dropdown)\n",
    "decision_dropdown.observe(dropdown_decision, names='value')"
   ]
  },
  {
   "cell_type": "code",
   "execution_count": null,
   "id": "4ee3af38",
   "metadata": {},
   "outputs": [],
   "source": [
    "# create and update df for feature recommendation\n",
    "print(business_obj)\n",
    "print(feature_set)\n",
    "print(feature_recommendation)\n",
    "print(ml_model_error)\n",
    "\n",
    "business_obj.append(business_objective)\n",
    "if featureset_dropdown.value == 1:\n",
    "    feature_set.append('RFECV')\n",
    "if featureset_dropdown.value == 2: \n",
    "    feature_set.append('PCA')\n",
    "if featureset_dropdown.value == 3: \n",
    "    feature_set.append('RFECV & PCA')\n",
    "user_feedback.append(str(decision_dropdown.value))\n",
    "if str(decision_dropdown.value) == 'Yes':\n",
    "    feature_recommendation.append('Yes')\n",
    "else:\n",
    "    feature_recommendation.append('No')\n",
    "ml_model_error.append(best_model.auc())\n",
    "recommendation_df = pd.DataFrame({'Business Objective': business_obj, 'Feature_set': feature_set, 'User_feedback': user_feedback, 'ML_model_error': ml_model_error,\n",
    "                                 'Feature Recommendation': feature_recommendation})\n",
    "print(recommendation_df)\n"
   ]
  },
  {
   "cell_type": "code",
   "execution_count": null,
   "id": "d6fe2025",
   "metadata": {},
   "outputs": [],
   "source": [
    "decision = str(decision_dropdown.value)\n",
    "if decision == 'Yes':\n",
    "    recommendation = recommendation_df.loc[recommendation_df['Feature Recommendation'] == 'Yes', 'Feature_set']\n",
    "    if len(recommendation)>=2:\n",
    "        new_recommendation = recommendation_df.loc[recommendation_df['Feature Recommendation'] == 'Yes']\n",
    "        min_error = new_recommendation.ML_model_error.max()\n",
    "        recommendation = recommendation_df.loc[recommendation_df['ML_model_error'] == min_error, 'Feature_set']\n",
    "    print('Do you want to explore different data features?')\n",
    "    def dropdown_review(change):\n",
    "        display(Javascript(\"Jupyter.notebook.execute_cell_range(45,46)\"))\n",
    "    review_dropdown=widgets.Dropdown(\n",
    "        value=None,\n",
    "        options=['Yes','No']\n",
    "        )\n",
    "    display(review_dropdown)\n",
    "    review_dropdown.observe(dropdown_review, names='value')\n",
    "if decision == 'No':\n",
    "    print('To explore different feature sets, please navigate to' +\"\\033[1m\" + \" Select feature set \"+ \"\\033[0m\" + 'step at the end of phase 3')\n",
    "    display(Javascript(\"Jupyter.notebook.execute_cell_range(32,34)\"))"
   ]
  },
  {
   "cell_type": "code",
   "execution_count": null,
   "id": "59dac71b",
   "metadata": {},
   "outputs": [],
   "source": [
    "review_decision = str(review_dropdown.value)\n",
    "if review_decision == 'Yes':\n",
    "    print('To explore different feature sets, please navigate to' +\"\\033[1m\" + \" Select feature set \"+ \"\\033[0m\" + 'step at the end of phase 3')\n",
    "    display(Javascript(\"Jupyter.notebook.execute_cell_range(34,35)\"))\n",
    "else:\n",
    "    display(Javascript(\"Jupyter.notebook.execute_cell_range(46,47)\"))"
   ]
  },
  {
   "cell_type": "code",
   "execution_count": null,
   "id": "4d38563c",
   "metadata": {},
   "outputs": [],
   "source": [
    "def run_cells(ev):\n",
    "    display(Javascript(\"Jupyter.notebook.execute_cell_range(47,48)\"))\n",
    "\n",
    "save_button = widgets.Button(description=\"Save Model\")\n",
    "save_button.on_click(run_cells)\n",
    "display(save_button)"
   ]
  },
  {
   "cell_type": "code",
   "execution_count": null,
   "id": "c0da6932",
   "metadata": {},
   "outputs": [],
   "source": [
    "# Save the model\n",
    "recommendation_df.to_csv('recommendation_df.csv')\n",
    "model_id = aml.leader.model_id\n",
    "print('Final model saved at')\n",
    "aml.download_mojo(genmodel_name=model_id, path=\"./\"+model_id+\".zip\")"
   ]
  }
 ],
 "metadata": {
  "kernelspec": {
   "display_name": "Python 3 (ipykernel)",
   "language": "python",
   "name": "python3"
  },
  "language_info": {
   "codemirror_mode": {
    "name": "ipython",
    "version": 3
   },
   "file_extension": ".py",
   "mimetype": "text/x-python",
   "name": "python",
   "nbconvert_exporter": "python",
   "pygments_lexer": "ipython3",
   "version": "3.8.10"
  }
 },
 "nbformat": 4,
 "nbformat_minor": 5
}
